{
 "cells": [
  {
   "cell_type": "markdown",
   "metadata": {},
   "source": [
    "# NBA shots 2023\n",
    "### Decision Tree model"
   ]
  },
  {
   "cell_type": "code",
   "execution_count": 3,
   "metadata": {
    "id": "2bazxijKsj32"
   },
   "outputs": [],
   "source": [
    "import numpy as np\n",
    "import pandas as pd\n",
    "import seaborn as sns\n",
    "import matplotlib.pyplot as plt\n",
    "\n",
    "%matplotlib inline"
   ]
  },
  {
   "cell_type": "code",
   "execution_count": 4,
   "metadata": {
    "id": "pFih200Ss18e"
   },
   "outputs": [],
   "source": [
    "df = pd.read_csv('player_shots_final.csv', index_col=0)\n",
    "df = df.copy()"
   ]
  },
  {
   "cell_type": "code",
   "execution_count": 5,
   "metadata": {
    "id": "qyMI39Nrt-C9"
   },
   "outputs": [],
   "source": [
    "df = df.drop(['date'], axis=1, )\n",
    "df[['result','lead','color','Player_Name']] = df[['result','lead','color','Player_Name']].astype('category')"
   ]
  },
  {
   "cell_type": "code",
   "execution_count": 6,
   "metadata": {
    "id": "T4yL56Q4u4tg"
   },
   "outputs": [],
   "source": [
    "# Mover las potenciales etiquetas al final\n",
    "df = df[[col for col in df.columns if col != 'color'] + ['color']]\n",
    "df = df[[col for col in df.columns if col != 'result'] + ['result']]"
   ]
  },
  {
   "cell_type": "code",
   "execution_count": 7,
   "metadata": {
    "id": "mCZkfojcurTL"
   },
   "outputs": [],
   "source": [
    "X = df.iloc[:, :-1].values\n",
    "y = df.iloc[:, -1].values\n",
    "\n",
    "# Codificar datos categoricos\n",
    "# No hace falta crear dummies pq solo hay 2 categorias\n",
    "from sklearn.preprocessing import LabelEncoder\n",
    "\n",
    "labelencoder_X_1 = LabelEncoder()\n",
    "X[:, 6] = labelencoder_X_1.fit_transform(X[:, 6])\n",
    "X[:, 9] = labelencoder_X_1.fit_transform(X[:, 9])\n",
    "X[:, 12] = labelencoder_X_1.fit_transform(X[:, 12])"
   ]
  },
  {
   "cell_type": "code",
   "execution_count": 8,
   "metadata": {
    "id": "DKQ5hP04ORMi"
   },
   "outputs": [],
   "source": [
    "from sklearn.model_selection import train_test_split\n",
    "X_train, X_test, y_train, y_test = train_test_split(X, y,\n",
    "                                                    test_size=0.4, random_state=0, shuffle=False)\n",
    "\n",
    "\n",
    "X_test, X_val, y_test, y_val = train_test_split(X_test,y_test,\n",
    "                                                    test_size=0.5, random_state=0, shuffle=False)"
   ]
  },
  {
   "cell_type": "code",
   "execution_count": 9,
   "metadata": {
    "id": "b8ZvR1RLOs77"
   },
   "outputs": [],
   "source": [
    "# Escalar var para hacer PCA\n",
    "from sklearn.preprocessing import StandardScaler\n",
    "\n",
    "sc_X = StandardScaler()\n",
    "X_train = sc_X.fit_transform(X_train)\n",
    "X_val = sc_X.transform(X_val)\n",
    "X_test = sc_X.transform(X_test)"
   ]
  },
  {
   "cell_type": "code",
   "execution_count": 10,
   "metadata": {
    "id": "ou0mz0lxOy9a"
   },
   "outputs": [
    {
     "name": "stdout",
     "output_type": "stream",
     "text": [
      "[0.29309798 0.17701009 0.14217011 0.08563215]\n"
     ]
    }
   ],
   "source": [
    "# PCA\n",
    "from sklearn.decomposition import PCA\n",
    "\n",
    "pca = PCA(n_components = 4)\n",
    "X_train = pca.fit_transform(X_train)\n",
    "X_val = pca.transform(X_val)\n",
    "X_test = pca.transform(X_test)\n",
    "explained_variance = pca.explained_variance_ratio_\n",
    "print(explained_variance)"
   ]
  },
  {
   "cell_type": "markdown",
   "metadata": {},
   "source": [
    "## Modelo de prubea sin ajustar parametros\n",
    "#### Hay overfitting"
   ]
  },
  {
   "cell_type": "code",
   "execution_count": 37,
   "metadata": {},
   "outputs": [],
   "source": [
    "# Ajustar model y predecir\n",
    "from sklearn.tree import DecisionTreeClassifier\n",
    "\n",
    "classifier = DecisionTreeClassifier(criterion = \"entropy\", random_state = 0)\n",
    "classifier.fit(X_train, y_train)\n",
    "y_train_pred = classifier.predict(X_train)\n",
    "y_val_pred = classifier.predict(X_val)"
   ]
  },
  {
   "cell_type": "code",
   "execution_count": 38,
   "metadata": {},
   "outputs": [],
   "source": [
    "# Elaborar matriz de confusion: comparar la y con la prediccion\n",
    "from sklearn.metrics import confusion_matrix\n",
    "cm_train = confusion_matrix(y_train, y_train_pred)\n",
    "cm_val = confusion_matrix(y_val, y_val_pred)\n",
    "\n",
    "# Calculamos el f1-score para train y val sets\n",
    "from sklearn.metrics import f1_score\n",
    "f1_train = f1_score(y_train, y_train_pred, pos_label=True)\n",
    "f1_val = f1_score(y_val, y_val_pred, pos_label=True)"
   ]
  },
  {
   "cell_type": "code",
   "execution_count": 39,
   "metadata": {},
   "outputs": [
    {
     "name": "stdout",
     "output_type": "stream",
     "text": [
      "1.0\n",
      "0.3055555555555555\n"
     ]
    }
   ],
   "source": [
    "print(f1_train)\n",
    "print(f1_val)"
   ]
  },
  {
   "cell_type": "code",
   "execution_count": 40,
   "metadata": {
    "colab": {
     "base_uri": "https://localhost:8080/"
    },
    "id": "UCP0GumAOllp",
    "outputId": "3f4a3b83-2a34-453f-cca0-cdebb4bbe9e8"
   },
   "outputs": [
    {
     "name": "stdout",
     "output_type": "stream",
     "text": [
      "f1-score test: 0.40740740740740744\n"
     ]
    }
   ],
   "source": [
    "# Predecir con test_set\n",
    "y_test_pred = classifier.predict(X_test)\n",
    "\n",
    "cm_test = confusion_matrix(y_test, y_test_pred)\n",
    "f1_test = f1_score(y_test, y_test_pred, pos_label=True)\n",
    "print(f'f1-score test: {f1_test}')"
   ]
  },
  {
   "cell_type": "markdown",
   "metadata": {},
   "source": [
    "## GridSearch para encontrar los mejores parámetros"
   ]
  },
  {
   "cell_type": "code",
   "execution_count": 15,
   "metadata": {},
   "outputs": [
    {
     "data": {
      "text/html": [
       "<style>#sk-container-id-2 {color: black;background-color: white;}#sk-container-id-2 pre{padding: 0;}#sk-container-id-2 div.sk-toggleable {background-color: white;}#sk-container-id-2 label.sk-toggleable__label {cursor: pointer;display: block;width: 100%;margin-bottom: 0;padding: 0.3em;box-sizing: border-box;text-align: center;}#sk-container-id-2 label.sk-toggleable__label-arrow:before {content: \"▸\";float: left;margin-right: 0.25em;color: #696969;}#sk-container-id-2 label.sk-toggleable__label-arrow:hover:before {color: black;}#sk-container-id-2 div.sk-estimator:hover label.sk-toggleable__label-arrow:before {color: black;}#sk-container-id-2 div.sk-toggleable__content {max-height: 0;max-width: 0;overflow: hidden;text-align: left;background-color: #f0f8ff;}#sk-container-id-2 div.sk-toggleable__content pre {margin: 0.2em;color: black;border-radius: 0.25em;background-color: #f0f8ff;}#sk-container-id-2 input.sk-toggleable__control:checked~div.sk-toggleable__content {max-height: 200px;max-width: 100%;overflow: auto;}#sk-container-id-2 input.sk-toggleable__control:checked~label.sk-toggleable__label-arrow:before {content: \"▾\";}#sk-container-id-2 div.sk-estimator input.sk-toggleable__control:checked~label.sk-toggleable__label {background-color: #d4ebff;}#sk-container-id-2 div.sk-label input.sk-toggleable__control:checked~label.sk-toggleable__label {background-color: #d4ebff;}#sk-container-id-2 input.sk-hidden--visually {border: 0;clip: rect(1px 1px 1px 1px);clip: rect(1px, 1px, 1px, 1px);height: 1px;margin: -1px;overflow: hidden;padding: 0;position: absolute;width: 1px;}#sk-container-id-2 div.sk-estimator {font-family: monospace;background-color: #f0f8ff;border: 1px dotted black;border-radius: 0.25em;box-sizing: border-box;margin-bottom: 0.5em;}#sk-container-id-2 div.sk-estimator:hover {background-color: #d4ebff;}#sk-container-id-2 div.sk-parallel-item::after {content: \"\";width: 100%;border-bottom: 1px solid gray;flex-grow: 1;}#sk-container-id-2 div.sk-label:hover label.sk-toggleable__label {background-color: #d4ebff;}#sk-container-id-2 div.sk-serial::before {content: \"\";position: absolute;border-left: 1px solid gray;box-sizing: border-box;top: 0;bottom: 0;left: 50%;z-index: 0;}#sk-container-id-2 div.sk-serial {display: flex;flex-direction: column;align-items: center;background-color: white;padding-right: 0.2em;padding-left: 0.2em;position: relative;}#sk-container-id-2 div.sk-item {position: relative;z-index: 1;}#sk-container-id-2 div.sk-parallel {display: flex;align-items: stretch;justify-content: center;background-color: white;position: relative;}#sk-container-id-2 div.sk-item::before, #sk-container-id-2 div.sk-parallel-item::before {content: \"\";position: absolute;border-left: 1px solid gray;box-sizing: border-box;top: 0;bottom: 0;left: 50%;z-index: -1;}#sk-container-id-2 div.sk-parallel-item {display: flex;flex-direction: column;z-index: 1;position: relative;background-color: white;}#sk-container-id-2 div.sk-parallel-item:first-child::after {align-self: flex-end;width: 50%;}#sk-container-id-2 div.sk-parallel-item:last-child::after {align-self: flex-start;width: 50%;}#sk-container-id-2 div.sk-parallel-item:only-child::after {width: 0;}#sk-container-id-2 div.sk-dashed-wrapped {border: 1px dashed gray;margin: 0 0.4em 0.5em 0.4em;box-sizing: border-box;padding-bottom: 0.4em;background-color: white;}#sk-container-id-2 div.sk-label label {font-family: monospace;font-weight: bold;display: inline-block;line-height: 1.2em;}#sk-container-id-2 div.sk-label-container {text-align: center;}#sk-container-id-2 div.sk-container {/* jupyter's `normalize.less` sets `[hidden] { display: none; }` but bootstrap.min.css set `[hidden] { display: none !important; }` so we also need the `!important` here to be able to override the default hidden behavior on the sphinx rendered scikit-learn.org. See: https://github.com/scikit-learn/scikit-learn/issues/21755 */display: inline-block !important;position: relative;}#sk-container-id-2 div.sk-text-repr-fallback {display: none;}</style><div id=\"sk-container-id-2\" class=\"sk-top-container\"><div class=\"sk-text-repr-fallback\"><pre>GridSearchCV(cv=5,\n",
       "             estimator=DecisionTreeClassifier(criterion=&#x27;entropy&#x27;,\n",
       "                                              random_state=0),\n",
       "             param_grid=[{&#x27;max_depth&#x27;: [3, 4, 5, 6],\n",
       "                          &#x27;max_leaf_nodes&#x27;: [7, 8, 9, 10],\n",
       "                          &#x27;min_samples_leaf&#x27;: [1, 2]}],\n",
       "             return_train_score=True, scoring=&#x27;f1_weighted&#x27;)</pre><b>In a Jupyter environment, please rerun this cell to show the HTML representation or trust the notebook. <br />On GitHub, the HTML representation is unable to render, please try loading this page with nbviewer.org.</b></div><div class=\"sk-container\" hidden><div class=\"sk-item sk-dashed-wrapped\"><div class=\"sk-label-container\"><div class=\"sk-label sk-toggleable\"><input class=\"sk-toggleable__control sk-hidden--visually\" id=\"sk-estimator-id-4\" type=\"checkbox\" ><label for=\"sk-estimator-id-4\" class=\"sk-toggleable__label sk-toggleable__label-arrow\">GridSearchCV</label><div class=\"sk-toggleable__content\"><pre>GridSearchCV(cv=5,\n",
       "             estimator=DecisionTreeClassifier(criterion=&#x27;entropy&#x27;,\n",
       "                                              random_state=0),\n",
       "             param_grid=[{&#x27;max_depth&#x27;: [3, 4, 5, 6],\n",
       "                          &#x27;max_leaf_nodes&#x27;: [7, 8, 9, 10],\n",
       "                          &#x27;min_samples_leaf&#x27;: [1, 2]}],\n",
       "             return_train_score=True, scoring=&#x27;f1_weighted&#x27;)</pre></div></div></div><div class=\"sk-parallel\"><div class=\"sk-parallel-item\"><div class=\"sk-item\"><div class=\"sk-label-container\"><div class=\"sk-label sk-toggleable\"><input class=\"sk-toggleable__control sk-hidden--visually\" id=\"sk-estimator-id-5\" type=\"checkbox\" ><label for=\"sk-estimator-id-5\" class=\"sk-toggleable__label sk-toggleable__label-arrow\">estimator: DecisionTreeClassifier</label><div class=\"sk-toggleable__content\"><pre>DecisionTreeClassifier(criterion=&#x27;entropy&#x27;, random_state=0)</pre></div></div></div><div class=\"sk-serial\"><div class=\"sk-item\"><div class=\"sk-estimator sk-toggleable\"><input class=\"sk-toggleable__control sk-hidden--visually\" id=\"sk-estimator-id-6\" type=\"checkbox\" ><label for=\"sk-estimator-id-6\" class=\"sk-toggleable__label sk-toggleable__label-arrow\">DecisionTreeClassifier</label><div class=\"sk-toggleable__content\"><pre>DecisionTreeClassifier(criterion=&#x27;entropy&#x27;, random_state=0)</pre></div></div></div></div></div></div></div></div></div></div>"
      ],
      "text/plain": [
       "GridSearchCV(cv=5,\n",
       "             estimator=DecisionTreeClassifier(criterion='entropy',\n",
       "                                              random_state=0),\n",
       "             param_grid=[{'max_depth': [3, 4, 5, 6],\n",
       "                          'max_leaf_nodes': [7, 8, 9, 10],\n",
       "                          'min_samples_leaf': [1, 2]}],\n",
       "             return_train_score=True, scoring='f1_weighted')"
      ]
     },
     "execution_count": 15,
     "metadata": {},
     "output_type": "execute_result"
    }
   ],
   "source": [
    "from sklearn.tree import DecisionTreeClassifier\n",
    "from sklearn.model_selection import GridSearchCV\n",
    "\n",
    "param_grid = [\n",
    "    {'max_depth': [3,4,5,6], 'max_leaf_nodes': [7,8,9,10], 'min_samples_leaf': [1,2]}\n",
    "  ]\n",
    "\n",
    "ad_clf = DecisionTreeClassifier(criterion='entropy', random_state=0) \n",
    "                        \n",
    "\n",
    "grid_search = GridSearchCV(ad_clf, param_grid, cv=5,  \n",
    "                           scoring='f1_weighted', return_train_score=True)  \n",
    "\n",
    "grid_search.fit(X_train, y_train) "
   ]
  },
  {
   "cell_type": "code",
   "execution_count": 16,
   "metadata": {},
   "outputs": [
    {
     "data": {
      "text/plain": [
       "{'max_depth': 6, 'max_leaf_nodes': 10, 'min_samples_leaf': 1}"
      ]
     },
     "execution_count": 16,
     "metadata": {},
     "output_type": "execute_result"
    }
   ],
   "source": [
    "# Maejores parámetros\n",
    "grid_search.best_params_"
   ]
  },
  {
   "cell_type": "markdown",
   "metadata": {},
   "source": [
    "Mejores resultados FIRST run: {'max_depth': 4, 'max_leaf_nodes': 8, 'min_samples_leaf': 1}\n",
    "Mejores resultados SECOND run: {'max_depth': 6, 'max_leaf_nodes': 10, 'min_samples_leaf': 1}"
   ]
  },
  {
   "cell_type": "markdown",
   "metadata": {},
   "source": [
    "## Mejor modelo"
   ]
  },
  {
   "cell_type": "code",
   "execution_count": 19,
   "metadata": {},
   "outputs": [],
   "source": [
    "ad_classifier = grid_search.best_estimator_"
   ]
  },
  {
   "cell_type": "code",
   "execution_count": 24,
   "metadata": {},
   "outputs": [
    {
     "name": "stdout",
     "output_type": "stream",
     "text": [
      "0.8045388304838896\n"
     ]
    }
   ],
   "source": [
    "# Predecir train set\n",
    "y_train_pred2 = ad_classifier.predict(X_train)\n",
    "\n",
    "from sklearn.metrics import f1_score\n",
    "f1_train2 = f1_score(y_train_pred2, y_train, average='weighted')\n",
    "print(f1_train2)"
   ]
  },
  {
   "cell_type": "code",
   "execution_count": 27,
   "metadata": {},
   "outputs": [
    {
     "name": "stdout",
     "output_type": "stream",
     "text": [
      "0.7149234852938555\n"
     ]
    }
   ],
   "source": [
    "# Predecir validation set\n",
    "y_val_pred2 = ad_classifier.predict(X_val)\n",
    "f1_val2 = f1_score(y_val_pred2, y_val, average='weighted')\n",
    "print(f1_val2)"
   ]
  },
  {
   "cell_type": "code",
   "execution_count": 28,
   "metadata": {},
   "outputs": [
    {
     "name": "stdout",
     "output_type": "stream",
     "text": [
      "0.7268128161888702\n"
     ]
    }
   ],
   "source": [
    "# Predecir con test set\n",
    "y_test_pred2 = ad_classifier.predict(X_test)\n",
    "f1_test2 = f1_score(y_test_pred2, y_test, average='weighted')\n",
    "print(f1_test2)"
   ]
  },
  {
   "cell_type": "code",
   "execution_count": 31,
   "metadata": {},
   "outputs": [
    {
     "name": "stdout",
     "output_type": "stream",
     "text": [
      "[[290  81]\n",
      " [ 81 141]]\n"
     ]
    }
   ],
   "source": [
    "# Matriz de confusión\n",
    "from sklearn.metrics import confusion_matrix\n",
    "\n",
    "cm_test2 = confusion_matrix(y_test, y_test_pred2)\n",
    "print(cm_test2)"
   ]
  },
  {
   "cell_type": "code",
   "execution_count": 29,
   "metadata": {},
   "outputs": [
    {
     "data": {
      "image/svg+xml": [
       "<?xml version=\"1.0\" encoding=\"UTF-8\" standalone=\"no\"?>\n",
       "<!DOCTYPE svg PUBLIC \"-//W3C//DTD SVG 1.1//EN\"\n",
       " \"http://www.w3.org/Graphics/SVG/1.1/DTD/svg11.dtd\">\n",
       "<!-- Generated by graphviz version 9.0.0 (20230911.1827)\n",
       " -->\n",
       "<!-- Title: Tree Pages: 1 -->\n",
       "<svg width=\"796pt\" height=\"790pt\"\n",
       " viewBox=\"0.00 0.00 796.25 790.00\" xmlns=\"http://www.w3.org/2000/svg\" xmlns:xlink=\"http://www.w3.org/1999/xlink\">\n",
       "<g id=\"graph0\" class=\"graph\" transform=\"scale(1 1) rotate(0) translate(4 786)\">\n",
       "<title>Tree</title>\n",
       "<polygon fill=\"white\" stroke=\"none\" points=\"-4,4 -4,-786 792.25,-786 792.25,4 -4,4\"/>\n",
       "<!-- 0 -->\n",
       "<g id=\"node1\" class=\"node\">\n",
       "<title>0</title>\n",
       "<path fill=\"#c6e3f7\" stroke=\"black\" d=\"M275,-782C275,-782 167.5,-782 167.5,-782 161.5,-782 155.5,-776 155.5,-770 155.5,-770 155.5,-711 155.5,-711 155.5,-705 161.5,-699 167.5,-699 167.5,-699 275,-699 275,-699 281,-699 287,-705 287,-711 287,-711 287,-770 287,-770 287,-776 281,-782 275,-782\"/>\n",
       "<text text-anchor=\"middle\" x=\"221.25\" y=\"-764.7\" font-family=\"Helvetica,sans-Serif\" font-size=\"14.00\">CP2 &lt;= &#45;1.24</text>\n",
       "<text text-anchor=\"middle\" x=\"221.25\" y=\"-749.7\" font-family=\"Helvetica,sans-Serif\" font-size=\"14.00\">entropy = 0.979</text>\n",
       "<text text-anchor=\"middle\" x=\"221.25\" y=\"-734.7\" font-family=\"Helvetica,sans-Serif\" font-size=\"14.00\">samples = 1780</text>\n",
       "<text text-anchor=\"middle\" x=\"221.25\" y=\"-719.7\" font-family=\"Helvetica,sans-Serif\" font-size=\"14.00\">value = [739, 1041]</text>\n",
       "<text text-anchor=\"middle\" x=\"221.25\" y=\"-704.7\" font-family=\"Helvetica,sans-Serif\" font-size=\"14.00\">class = False</text>\n",
       "</g>\n",
       "<!-- 1 -->\n",
       "<g id=\"node2\" class=\"node\">\n",
       "<title>1</title>\n",
       "<path fill=\"#40a0e6\" stroke=\"black\" d=\"M198.5,-655.5C198.5,-655.5 106,-655.5 106,-655.5 100,-655.5 94,-649.5 94,-643.5 94,-643.5 94,-599.5 94,-599.5 94,-593.5 100,-587.5 106,-587.5 106,-587.5 198.5,-587.5 198.5,-587.5 204.5,-587.5 210.5,-593.5 210.5,-599.5 210.5,-599.5 210.5,-643.5 210.5,-643.5 210.5,-649.5 204.5,-655.5 198.5,-655.5\"/>\n",
       "<text text-anchor=\"middle\" x=\"152.25\" y=\"-638.2\" font-family=\"Helvetica,sans-Serif\" font-size=\"14.00\">entropy = 0.207</text>\n",
       "<text text-anchor=\"middle\" x=\"152.25\" y=\"-623.2\" font-family=\"Helvetica,sans-Serif\" font-size=\"14.00\">samples = 339</text>\n",
       "<text text-anchor=\"middle\" x=\"152.25\" y=\"-608.2\" font-family=\"Helvetica,sans-Serif\" font-size=\"14.00\">value = [11, 328]</text>\n",
       "<text text-anchor=\"middle\" x=\"152.25\" y=\"-593.2\" font-family=\"Helvetica,sans-Serif\" font-size=\"14.00\">class = False</text>\n",
       "</g>\n",
       "<!-- 0&#45;&gt;1 -->\n",
       "<g id=\"edge1\" class=\"edge\">\n",
       "<title>0&#45;&gt;1</title>\n",
       "<path fill=\"none\" stroke=\"black\" d=\"M197.12,-698.58C190.81,-687.88 183.99,-676.32 177.62,-665.52\"/>\n",
       "<polygon fill=\"black\" stroke=\"black\" points=\"180.79,-664 172.69,-657.16 174.76,-667.56 180.79,-664\"/>\n",
       "<text text-anchor=\"middle\" x=\"165.68\" y=\"-674.27\" font-family=\"Helvetica,sans-Serif\" font-size=\"14.00\">True</text>\n",
       "</g>\n",
       "<!-- 2 -->\n",
       "<g id=\"node3\" class=\"node\">\n",
       "<title>2</title>\n",
       "<path fill=\"#fefcfb\" stroke=\"black\" d=\"M340.25,-663C340.25,-663 240.25,-663 240.25,-663 234.25,-663 228.25,-657 228.25,-651 228.25,-651 228.25,-592 228.25,-592 228.25,-586 234.25,-580 240.25,-580 240.25,-580 340.25,-580 340.25,-580 346.25,-580 352.25,-586 352.25,-592 352.25,-592 352.25,-651 352.25,-651 352.25,-657 346.25,-663 340.25,-663\"/>\n",
       "<text text-anchor=\"middle\" x=\"290.25\" y=\"-645.7\" font-family=\"Helvetica,sans-Serif\" font-size=\"14.00\">CP4 &lt;= &#45;0.448</text>\n",
       "<text text-anchor=\"middle\" x=\"290.25\" y=\"-630.7\" font-family=\"Helvetica,sans-Serif\" font-size=\"14.00\">entropy = 1.0</text>\n",
       "<text text-anchor=\"middle\" x=\"290.25\" y=\"-615.7\" font-family=\"Helvetica,sans-Serif\" font-size=\"14.00\">samples = 1441</text>\n",
       "<text text-anchor=\"middle\" x=\"290.25\" y=\"-600.7\" font-family=\"Helvetica,sans-Serif\" font-size=\"14.00\">value = [728, 713]</text>\n",
       "<text text-anchor=\"middle\" x=\"290.25\" y=\"-585.7\" font-family=\"Helvetica,sans-Serif\" font-size=\"14.00\">class = True</text>\n",
       "</g>\n",
       "<!-- 0&#45;&gt;2 -->\n",
       "<g id=\"edge2\" class=\"edge\">\n",
       "<title>0&#45;&gt;2</title>\n",
       "<path fill=\"none\" stroke=\"black\" d=\"M245.38,-698.58C250.24,-690.34 255.41,-681.58 260.43,-673.06\"/>\n",
       "<polygon fill=\"black\" stroke=\"black\" points=\"263.41,-674.9 265.48,-664.5 257.38,-671.34 263.41,-674.9\"/>\n",
       "<text text-anchor=\"middle\" x=\"272.49\" y=\"-681.61\" font-family=\"Helvetica,sans-Serif\" font-size=\"14.00\">False</text>\n",
       "</g>\n",
       "<!-- 3 -->\n",
       "<g id=\"node4\" class=\"node\">\n",
       "<title>3</title>\n",
       "<path fill=\"#85c3ef\" stroke=\"black\" d=\"M240.25,-544C240.25,-544 140.25,-544 140.25,-544 134.25,-544 128.25,-538 128.25,-532 128.25,-532 128.25,-473 128.25,-473 128.25,-467 134.25,-461 140.25,-461 140.25,-461 240.25,-461 240.25,-461 246.25,-461 252.25,-467 252.25,-473 252.25,-473 252.25,-532 252.25,-532 252.25,-538 246.25,-544 240.25,-544\"/>\n",
       "<text text-anchor=\"middle\" x=\"190.25\" y=\"-526.7\" font-family=\"Helvetica,sans-Serif\" font-size=\"14.00\">CP2 &lt;= &#45;0.578</text>\n",
       "<text text-anchor=\"middle\" x=\"190.25\" y=\"-511.7\" font-family=\"Helvetica,sans-Serif\" font-size=\"14.00\">entropy = 0.852</text>\n",
       "<text text-anchor=\"middle\" x=\"190.25\" y=\"-496.7\" font-family=\"Helvetica,sans-Serif\" font-size=\"14.00\">samples = 534</text>\n",
       "<text text-anchor=\"middle\" x=\"190.25\" y=\"-481.7\" font-family=\"Helvetica,sans-Serif\" font-size=\"14.00\">value = [148, 386]</text>\n",
       "<text text-anchor=\"middle\" x=\"190.25\" y=\"-466.7\" font-family=\"Helvetica,sans-Serif\" font-size=\"14.00\">class = False</text>\n",
       "</g>\n",
       "<!-- 2&#45;&gt;3 -->\n",
       "<g id=\"edge3\" class=\"edge\">\n",
       "<title>2&#45;&gt;3</title>\n",
       "<path fill=\"none\" stroke=\"black\" d=\"M255.27,-579.58C247.92,-570.98 240.1,-561.82 232.51,-552.95\"/>\n",
       "<polygon fill=\"black\" stroke=\"black\" points=\"235.18,-550.68 226.02,-545.35 229.86,-555.23 235.18,-550.68\"/>\n",
       "</g>\n",
       "<!-- 4 -->\n",
       "<g id=\"node9\" class=\"node\">\n",
       "<title>4</title>\n",
       "<path fill=\"#f4c8a9\" stroke=\"black\" d=\"M440.25,-544C440.25,-544 340.25,-544 340.25,-544 334.25,-544 328.25,-538 328.25,-532 328.25,-532 328.25,-473 328.25,-473 328.25,-467 334.25,-461 340.25,-461 340.25,-461 440.25,-461 440.25,-461 446.25,-461 452.25,-467 452.25,-473 452.25,-473 452.25,-532 452.25,-532 452.25,-538 446.25,-544 440.25,-544\"/>\n",
       "<text text-anchor=\"middle\" x=\"390.25\" y=\"-526.7\" font-family=\"Helvetica,sans-Serif\" font-size=\"14.00\">CP3 &lt;= 0.794</text>\n",
       "<text text-anchor=\"middle\" x=\"390.25\" y=\"-511.7\" font-family=\"Helvetica,sans-Serif\" font-size=\"14.00\">entropy = 0.943</text>\n",
       "<text text-anchor=\"middle\" x=\"390.25\" y=\"-496.7\" font-family=\"Helvetica,sans-Serif\" font-size=\"14.00\">samples = 907</text>\n",
       "<text text-anchor=\"middle\" x=\"390.25\" y=\"-481.7\" font-family=\"Helvetica,sans-Serif\" font-size=\"14.00\">value = [580, 327]</text>\n",
       "<text text-anchor=\"middle\" x=\"390.25\" y=\"-466.7\" font-family=\"Helvetica,sans-Serif\" font-size=\"14.00\">class = True</text>\n",
       "</g>\n",
       "<!-- 2&#45;&gt;4 -->\n",
       "<g id=\"edge8\" class=\"edge\">\n",
       "<title>2&#45;&gt;4</title>\n",
       "<path fill=\"none\" stroke=\"black\" d=\"M325.23,-579.58C332.58,-570.98 340.4,-561.82 347.99,-552.95\"/>\n",
       "<polygon fill=\"black\" stroke=\"black\" points=\"350.64,-555.23 354.48,-545.35 345.32,-550.68 350.64,-555.23\"/>\n",
       "</g>\n",
       "<!-- 7 -->\n",
       "<g id=\"node5\" class=\"node\">\n",
       "<title>7</title>\n",
       "<path fill=\"#41a1e6\" stroke=\"black\" d=\"M98.5,-417.5C98.5,-417.5 12,-417.5 12,-417.5 6,-417.5 0,-411.5 0,-405.5 0,-405.5 0,-361.5 0,-361.5 0,-355.5 6,-349.5 12,-349.5 12,-349.5 98.5,-349.5 98.5,-349.5 104.5,-349.5 110.5,-355.5 110.5,-361.5 110.5,-361.5 110.5,-405.5 110.5,-405.5 110.5,-411.5 104.5,-417.5 98.5,-417.5\"/>\n",
       "<text text-anchor=\"middle\" x=\"55.25\" y=\"-400.2\" font-family=\"Helvetica,sans-Serif\" font-size=\"14.00\">entropy = 0.228</text>\n",
       "<text text-anchor=\"middle\" x=\"55.25\" y=\"-385.2\" font-family=\"Helvetica,sans-Serif\" font-size=\"14.00\">samples = 190</text>\n",
       "<text text-anchor=\"middle\" x=\"55.25\" y=\"-370.2\" font-family=\"Helvetica,sans-Serif\" font-size=\"14.00\">value = [7, 183]</text>\n",
       "<text text-anchor=\"middle\" x=\"55.25\" y=\"-355.2\" font-family=\"Helvetica,sans-Serif\" font-size=\"14.00\">class = False</text>\n",
       "</g>\n",
       "<!-- 3&#45;&gt;7 -->\n",
       "<g id=\"edge4\" class=\"edge\">\n",
       "<title>3&#45;&gt;7</title>\n",
       "<path fill=\"none\" stroke=\"black\" d=\"M143.03,-460.58C129.81,-449.12 115.44,-436.67 102.23,-425.22\"/>\n",
       "<polygon fill=\"black\" stroke=\"black\" points=\"104.74,-422.76 94.89,-418.85 100.15,-428.05 104.74,-422.76\"/>\n",
       "</g>\n",
       "<!-- 8 -->\n",
       "<g id=\"node6\" class=\"node\">\n",
       "<title>8</title>\n",
       "<path fill=\"#c3e1f7\" stroke=\"black\" d=\"M240.25,-425C240.25,-425 140.25,-425 140.25,-425 134.25,-425 128.25,-419 128.25,-413 128.25,-413 128.25,-354 128.25,-354 128.25,-348 134.25,-342 140.25,-342 140.25,-342 240.25,-342 240.25,-342 246.25,-342 252.25,-348 252.25,-354 252.25,-354 252.25,-413 252.25,-413 252.25,-419 246.25,-425 240.25,-425\"/>\n",
       "<text text-anchor=\"middle\" x=\"190.25\" y=\"-407.7\" font-family=\"Helvetica,sans-Serif\" font-size=\"14.00\">CP3 &lt;= &#45;0.982</text>\n",
       "<text text-anchor=\"middle\" x=\"190.25\" y=\"-392.7\" font-family=\"Helvetica,sans-Serif\" font-size=\"14.00\">entropy = 0.976</text>\n",
       "<text text-anchor=\"middle\" x=\"190.25\" y=\"-377.7\" font-family=\"Helvetica,sans-Serif\" font-size=\"14.00\">samples = 344</text>\n",
       "<text text-anchor=\"middle\" x=\"190.25\" y=\"-362.7\" font-family=\"Helvetica,sans-Serif\" font-size=\"14.00\">value = [141, 203]</text>\n",
       "<text text-anchor=\"middle\" x=\"190.25\" y=\"-347.7\" font-family=\"Helvetica,sans-Serif\" font-size=\"14.00\">class = False</text>\n",
       "</g>\n",
       "<!-- 3&#45;&gt;8 -->\n",
       "<g id=\"edge5\" class=\"edge\">\n",
       "<title>3&#45;&gt;8</title>\n",
       "<path fill=\"none\" stroke=\"black\" d=\"M190.25,-460.58C190.25,-452.79 190.25,-444.53 190.25,-436.45\"/>\n",
       "<polygon fill=\"black\" stroke=\"black\" points=\"193.75,-436.71 190.25,-426.71 186.75,-436.71 193.75,-436.71\"/>\n",
       "</g>\n",
       "<!-- 9 -->\n",
       "<g id=\"node7\" class=\"node\">\n",
       "<title>9</title>\n",
       "<path fill=\"#f3c6a5\" stroke=\"black\" d=\"M101.5,-298.5C101.5,-298.5 15,-298.5 15,-298.5 9,-298.5 3,-292.5 3,-286.5 3,-286.5 3,-242.5 3,-242.5 3,-236.5 9,-230.5 15,-230.5 15,-230.5 101.5,-230.5 101.5,-230.5 107.5,-230.5 113.5,-236.5 113.5,-242.5 113.5,-242.5 113.5,-286.5 113.5,-286.5 113.5,-292.5 107.5,-298.5 101.5,-298.5\"/>\n",
       "<text text-anchor=\"middle\" x=\"58.25\" y=\"-281.2\" font-family=\"Helvetica,sans-Serif\" font-size=\"14.00\">entropy = 0.936</text>\n",
       "<text text-anchor=\"middle\" x=\"58.25\" y=\"-266.2\" font-family=\"Helvetica,sans-Serif\" font-size=\"14.00\">samples = 122</text>\n",
       "<text text-anchor=\"middle\" x=\"58.25\" y=\"-251.2\" font-family=\"Helvetica,sans-Serif\" font-size=\"14.00\">value = [79, 43]</text>\n",
       "<text text-anchor=\"middle\" x=\"58.25\" y=\"-236.2\" font-family=\"Helvetica,sans-Serif\" font-size=\"14.00\">class = True</text>\n",
       "</g>\n",
       "<!-- 8&#45;&gt;9 -->\n",
       "<g id=\"edge6\" class=\"edge\">\n",
       "<title>8&#45;&gt;9</title>\n",
       "<path fill=\"none\" stroke=\"black\" d=\"M144.08,-341.58C131.15,-330.12 117.11,-317.67 104.19,-306.22\"/>\n",
       "<polygon fill=\"black\" stroke=\"black\" points=\"106.83,-303.88 97.02,-299.87 102.18,-309.12 106.83,-303.88\"/>\n",
       "</g>\n",
       "<!-- 10 -->\n",
       "<g id=\"node8\" class=\"node\">\n",
       "<title>10</title>\n",
       "<path fill=\"#86c3ef\" stroke=\"black\" d=\"M236.5,-298.5C236.5,-298.5 144,-298.5 144,-298.5 138,-298.5 132,-292.5 132,-286.5 132,-286.5 132,-242.5 132,-242.5 132,-236.5 138,-230.5 144,-230.5 144,-230.5 236.5,-230.5 236.5,-230.5 242.5,-230.5 248.5,-236.5 248.5,-242.5 248.5,-242.5 248.5,-286.5 248.5,-286.5 248.5,-292.5 242.5,-298.5 236.5,-298.5\"/>\n",
       "<text text-anchor=\"middle\" x=\"190.25\" y=\"-281.2\" font-family=\"Helvetica,sans-Serif\" font-size=\"14.00\">entropy = 0.854</text>\n",
       "<text text-anchor=\"middle\" x=\"190.25\" y=\"-266.2\" font-family=\"Helvetica,sans-Serif\" font-size=\"14.00\">samples = 222</text>\n",
       "<text text-anchor=\"middle\" x=\"190.25\" y=\"-251.2\" font-family=\"Helvetica,sans-Serif\" font-size=\"14.00\">value = [62, 160]</text>\n",
       "<text text-anchor=\"middle\" x=\"190.25\" y=\"-236.2\" font-family=\"Helvetica,sans-Serif\" font-size=\"14.00\">class = False</text>\n",
       "</g>\n",
       "<!-- 8&#45;&gt;10 -->\n",
       "<g id=\"edge7\" class=\"edge\">\n",
       "<title>8&#45;&gt;10</title>\n",
       "<path fill=\"none\" stroke=\"black\" d=\"M190.25,-341.58C190.25,-331.43 190.25,-320.5 190.25,-310.18\"/>\n",
       "<polygon fill=\"black\" stroke=\"black\" points=\"193.75,-310.37 190.25,-300.37 186.75,-310.37 193.75,-310.37\"/>\n",
       "</g>\n",
       "<!-- 5 -->\n",
       "<g id=\"node10\" class=\"node\">\n",
       "<title>5</title>\n",
       "<path fill=\"#eca16c\" stroke=\"black\" d=\"M440.25,-425C440.25,-425 340.25,-425 340.25,-425 334.25,-425 328.25,-419 328.25,-413 328.25,-413 328.25,-354 328.25,-354 328.25,-348 334.25,-342 340.25,-342 340.25,-342 440.25,-342 440.25,-342 446.25,-342 452.25,-348 452.25,-354 452.25,-354 452.25,-413 452.25,-413 452.25,-419 446.25,-425 440.25,-425\"/>\n",
       "<text text-anchor=\"middle\" x=\"390.25\" y=\"-407.7\" font-family=\"Helvetica,sans-Serif\" font-size=\"14.00\">CP4 &lt;= 1.176</text>\n",
       "<text text-anchor=\"middle\" x=\"390.25\" y=\"-392.7\" font-family=\"Helvetica,sans-Serif\" font-size=\"14.00\">entropy = 0.73</text>\n",
       "<text text-anchor=\"middle\" x=\"390.25\" y=\"-377.7\" font-family=\"Helvetica,sans-Serif\" font-size=\"14.00\">samples = 558</text>\n",
       "<text text-anchor=\"middle\" x=\"390.25\" y=\"-362.7\" font-family=\"Helvetica,sans-Serif\" font-size=\"14.00\">value = [444, 114]</text>\n",
       "<text text-anchor=\"middle\" x=\"390.25\" y=\"-347.7\" font-family=\"Helvetica,sans-Serif\" font-size=\"14.00\">class = True</text>\n",
       "</g>\n",
       "<!-- 4&#45;&gt;5 -->\n",
       "<g id=\"edge9\" class=\"edge\">\n",
       "<title>4&#45;&gt;5</title>\n",
       "<path fill=\"none\" stroke=\"black\" d=\"M390.25,-460.58C390.25,-452.79 390.25,-444.53 390.25,-436.45\"/>\n",
       "<polygon fill=\"black\" stroke=\"black\" points=\"393.75,-436.71 390.25,-426.71 386.75,-436.71 393.75,-436.71\"/>\n",
       "</g>\n",
       "<!-- 6 -->\n",
       "<g id=\"node17\" class=\"node\">\n",
       "<title>6</title>\n",
       "<path fill=\"#b7dcf6\" stroke=\"black\" d=\"M641.25,-425C641.25,-425 541.25,-425 541.25,-425 535.25,-425 529.25,-419 529.25,-413 529.25,-413 529.25,-354 529.25,-354 529.25,-348 535.25,-342 541.25,-342 541.25,-342 641.25,-342 641.25,-342 647.25,-342 653.25,-348 653.25,-354 653.25,-354 653.25,-413 653.25,-413 653.25,-419 647.25,-425 641.25,-425\"/>\n",
       "<text text-anchor=\"middle\" x=\"591.25\" y=\"-407.7\" font-family=\"Helvetica,sans-Serif\" font-size=\"14.00\">CP2 &lt;= &#45;0.901</text>\n",
       "<text text-anchor=\"middle\" x=\"591.25\" y=\"-392.7\" font-family=\"Helvetica,sans-Serif\" font-size=\"14.00\">entropy = 0.965</text>\n",
       "<text text-anchor=\"middle\" x=\"591.25\" y=\"-377.7\" font-family=\"Helvetica,sans-Serif\" font-size=\"14.00\">samples = 349</text>\n",
       "<text text-anchor=\"middle\" x=\"591.25\" y=\"-362.7\" font-family=\"Helvetica,sans-Serif\" font-size=\"14.00\">value = [136, 213]</text>\n",
       "<text text-anchor=\"middle\" x=\"591.25\" y=\"-347.7\" font-family=\"Helvetica,sans-Serif\" font-size=\"14.00\">class = False</text>\n",
       "</g>\n",
       "<!-- 4&#45;&gt;6 -->\n",
       "<g id=\"edge16\" class=\"edge\">\n",
       "<title>4&#45;&gt;6</title>\n",
       "<path fill=\"none\" stroke=\"black\" d=\"M452.75,-465.12C473.73,-452.91 497.31,-439.18 518.99,-426.56\"/>\n",
       "<polygon fill=\"black\" stroke=\"black\" points=\"520.6,-429.67 527.48,-421.62 517.08,-423.62 520.6,-429.67\"/>\n",
       "</g>\n",
       "<!-- 13 -->\n",
       "<g id=\"node11\" class=\"node\">\n",
       "<title>13</title>\n",
       "<path fill=\"#eead7d\" stroke=\"black\" d=\"M378.25,-306C378.25,-306 278.25,-306 278.25,-306 272.25,-306 266.25,-300 266.25,-294 266.25,-294 266.25,-235 266.25,-235 266.25,-229 272.25,-223 278.25,-223 278.25,-223 378.25,-223 378.25,-223 384.25,-223 390.25,-229 390.25,-235 390.25,-235 390.25,-294 390.25,-294 390.25,-300 384.25,-306 378.25,-306\"/>\n",
       "<text text-anchor=\"middle\" x=\"328.25\" y=\"-288.7\" font-family=\"Helvetica,sans-Serif\" font-size=\"14.00\">CP3 &lt;= &#45;1.212</text>\n",
       "<text text-anchor=\"middle\" x=\"328.25\" y=\"-273.7\" font-family=\"Helvetica,sans-Serif\" font-size=\"14.00\">entropy = 0.822</text>\n",
       "<text text-anchor=\"middle\" x=\"328.25\" y=\"-258.7\" font-family=\"Helvetica,sans-Serif\" font-size=\"14.00\">samples = 409</text>\n",
       "<text text-anchor=\"middle\" x=\"328.25\" y=\"-243.7\" font-family=\"Helvetica,sans-Serif\" font-size=\"14.00\">value = [304, 105]</text>\n",
       "<text text-anchor=\"middle\" x=\"328.25\" y=\"-228.7\" font-family=\"Helvetica,sans-Serif\" font-size=\"14.00\">class = True</text>\n",
       "</g>\n",
       "<!-- 5&#45;&gt;13 -->\n",
       "<g id=\"edge10\" class=\"edge\">\n",
       "<title>5&#45;&gt;13</title>\n",
       "<path fill=\"none\" stroke=\"black\" d=\"M368.57,-341.58C364.25,-333.43 359.66,-324.77 355.19,-316.34\"/>\n",
       "<polygon fill=\"black\" stroke=\"black\" points=\"358.3,-314.73 350.53,-307.54 352.12,-318.01 358.3,-314.73\"/>\n",
       "</g>\n",
       "<!-- 14 -->\n",
       "<g id=\"node16\" class=\"node\">\n",
       "<title>14</title>\n",
       "<path fill=\"#e78946\" stroke=\"black\" d=\"M506.5,-298.5C506.5,-298.5 420,-298.5 420,-298.5 414,-298.5 408,-292.5 408,-286.5 408,-286.5 408,-242.5 408,-242.5 408,-236.5 414,-230.5 420,-230.5 420,-230.5 506.5,-230.5 506.5,-230.5 512.5,-230.5 518.5,-236.5 518.5,-242.5 518.5,-242.5 518.5,-286.5 518.5,-286.5 518.5,-292.5 512.5,-298.5 506.5,-298.5\"/>\n",
       "<text text-anchor=\"middle\" x=\"463.25\" y=\"-281.2\" font-family=\"Helvetica,sans-Serif\" font-size=\"14.00\">entropy = 0.329</text>\n",
       "<text text-anchor=\"middle\" x=\"463.25\" y=\"-266.2\" font-family=\"Helvetica,sans-Serif\" font-size=\"14.00\">samples = 149</text>\n",
       "<text text-anchor=\"middle\" x=\"463.25\" y=\"-251.2\" font-family=\"Helvetica,sans-Serif\" font-size=\"14.00\">value = [140, 9]</text>\n",
       "<text text-anchor=\"middle\" x=\"463.25\" y=\"-236.2\" font-family=\"Helvetica,sans-Serif\" font-size=\"14.00\">class = True</text>\n",
       "</g>\n",
       "<!-- 5&#45;&gt;14 -->\n",
       "<g id=\"edge15\" class=\"edge\">\n",
       "<title>5&#45;&gt;14</title>\n",
       "<path fill=\"none\" stroke=\"black\" d=\"M415.78,-341.58C422.46,-330.88 429.67,-319.32 436.41,-308.52\"/>\n",
       "<polygon fill=\"black\" stroke=\"black\" points=\"439.31,-310.48 441.63,-300.15 433.37,-306.78 439.31,-310.48\"/>\n",
       "</g>\n",
       "<!-- 15 -->\n",
       "<g id=\"node12\" class=\"node\">\n",
       "<title>15</title>\n",
       "<path fill=\"#e99559\" stroke=\"black\" d=\"M307.5,-179.5C307.5,-179.5 215,-179.5 215,-179.5 209,-179.5 203,-173.5 203,-167.5 203,-167.5 203,-123.5 203,-123.5 203,-117.5 209,-111.5 215,-111.5 215,-111.5 307.5,-111.5 307.5,-111.5 313.5,-111.5 319.5,-117.5 319.5,-123.5 319.5,-123.5 319.5,-167.5 319.5,-167.5 319.5,-173.5 313.5,-179.5 307.5,-179.5\"/>\n",
       "<text text-anchor=\"middle\" x=\"261.25\" y=\"-162.2\" font-family=\"Helvetica,sans-Serif\" font-size=\"14.00\">entropy = 0.579</text>\n",
       "<text text-anchor=\"middle\" x=\"261.25\" y=\"-147.2\" font-family=\"Helvetica,sans-Serif\" font-size=\"14.00\">samples = 203</text>\n",
       "<text text-anchor=\"middle\" x=\"261.25\" y=\"-132.2\" font-family=\"Helvetica,sans-Serif\" font-size=\"14.00\">value = [175, 28]</text>\n",
       "<text text-anchor=\"middle\" x=\"261.25\" y=\"-117.2\" font-family=\"Helvetica,sans-Serif\" font-size=\"14.00\">class = True</text>\n",
       "</g>\n",
       "<!-- 13&#45;&gt;15 -->\n",
       "<g id=\"edge11\" class=\"edge\">\n",
       "<title>13&#45;&gt;15</title>\n",
       "<path fill=\"none\" stroke=\"black\" d=\"M304.82,-222.58C298.75,-211.99 292.21,-200.56 286.08,-189.85\"/>\n",
       "<polygon fill=\"black\" stroke=\"black\" points=\"289.11,-188.11 281.11,-181.17 283.04,-191.59 289.11,-188.11\"/>\n",
       "</g>\n",
       "<!-- 16 -->\n",
       "<g id=\"node13\" class=\"node\">\n",
       "<title>16</title>\n",
       "<path fill=\"#f5ccaf\" stroke=\"black\" d=\"M442.5,-187C442.5,-187 350,-187 350,-187 344,-187 338,-181 338,-175 338,-175 338,-116 338,-116 338,-110 344,-104 350,-104 350,-104 442.5,-104 442.5,-104 448.5,-104 454.5,-110 454.5,-116 454.5,-116 454.5,-175 454.5,-175 454.5,-181 448.5,-187 442.5,-187\"/>\n",
       "<text text-anchor=\"middle\" x=\"396.25\" y=\"-169.7\" font-family=\"Helvetica,sans-Serif\" font-size=\"14.00\">CP3 &lt;= &#45;0.119</text>\n",
       "<text text-anchor=\"middle\" x=\"396.25\" y=\"-154.7\" font-family=\"Helvetica,sans-Serif\" font-size=\"14.00\">entropy = 0.954</text>\n",
       "<text text-anchor=\"middle\" x=\"396.25\" y=\"-139.7\" font-family=\"Helvetica,sans-Serif\" font-size=\"14.00\">samples = 206</text>\n",
       "<text text-anchor=\"middle\" x=\"396.25\" y=\"-124.7\" font-family=\"Helvetica,sans-Serif\" font-size=\"14.00\">value = [129, 77]</text>\n",
       "<text text-anchor=\"middle\" x=\"396.25\" y=\"-109.7\" font-family=\"Helvetica,sans-Serif\" font-size=\"14.00\">class = True</text>\n",
       "</g>\n",
       "<!-- 13&#45;&gt;16 -->\n",
       "<g id=\"edge12\" class=\"edge\">\n",
       "<title>13&#45;&gt;16</title>\n",
       "<path fill=\"none\" stroke=\"black\" d=\"M352.03,-222.58C356.82,-214.34 361.91,-205.58 366.87,-197.06\"/>\n",
       "<polygon fill=\"black\" stroke=\"black\" points=\"369.84,-198.91 371.83,-188.51 363.78,-195.4 369.84,-198.91\"/>\n",
       "</g>\n",
       "<!-- 17 -->\n",
       "<g id=\"node14\" class=\"node\">\n",
       "<title>17</title>\n",
       "<path fill=\"#d1e8f9\" stroke=\"black\" d=\"M375.5,-68C375.5,-68 289,-68 289,-68 283,-68 277,-62 277,-56 277,-56 277,-12 277,-12 277,-6 283,0 289,0 289,0 375.5,0 375.5,0 381.5,0 387.5,-6 387.5,-12 387.5,-12 387.5,-56 387.5,-56 387.5,-62 381.5,-68 375.5,-68\"/>\n",
       "<text text-anchor=\"middle\" x=\"332.25\" y=\"-50.7\" font-family=\"Helvetica,sans-Serif\" font-size=\"14.00\">entropy = 0.988</text>\n",
       "<text text-anchor=\"middle\" x=\"332.25\" y=\"-35.7\" font-family=\"Helvetica,sans-Serif\" font-size=\"14.00\">samples = 115</text>\n",
       "<text text-anchor=\"middle\" x=\"332.25\" y=\"-20.7\" font-family=\"Helvetica,sans-Serif\" font-size=\"14.00\">value = [50, 65]</text>\n",
       "<text text-anchor=\"middle\" x=\"332.25\" y=\"-5.7\" font-family=\"Helvetica,sans-Serif\" font-size=\"14.00\">class = False</text>\n",
       "</g>\n",
       "<!-- 16&#45;&gt;17 -->\n",
       "<g id=\"edge13\" class=\"edge\">\n",
       "<title>16&#45;&gt;17</title>\n",
       "<path fill=\"none\" stroke=\"black\" d=\"M372.42,-103.73C367.51,-95.34 362.34,-86.47 357.39,-78.01\"/>\n",
       "<polygon fill=\"black\" stroke=\"black\" points=\"360.54,-76.47 352.48,-69.61 354.5,-80.01 360.54,-76.47\"/>\n",
       "</g>\n",
       "<!-- 18 -->\n",
       "<g id=\"node15\" class=\"node\">\n",
       "<title>18</title>\n",
       "<path fill=\"#e99457\" stroke=\"black\" d=\"M504.5,-68C504.5,-68 418,-68 418,-68 412,-68 406,-62 406,-56 406,-56 406,-12 406,-12 406,-6 412,0 418,0 418,0 504.5,0 504.5,0 510.5,0 516.5,-6 516.5,-12 516.5,-12 516.5,-56 516.5,-56 516.5,-62 510.5,-68 504.5,-68\"/>\n",
       "<text text-anchor=\"middle\" x=\"461.25\" y=\"-50.7\" font-family=\"Helvetica,sans-Serif\" font-size=\"14.00\">entropy = 0.563</text>\n",
       "<text text-anchor=\"middle\" x=\"461.25\" y=\"-35.7\" font-family=\"Helvetica,sans-Serif\" font-size=\"14.00\">samples = 91</text>\n",
       "<text text-anchor=\"middle\" x=\"461.25\" y=\"-20.7\" font-family=\"Helvetica,sans-Serif\" font-size=\"14.00\">value = [79, 12]</text>\n",
       "<text text-anchor=\"middle\" x=\"461.25\" y=\"-5.7\" font-family=\"Helvetica,sans-Serif\" font-size=\"14.00\">class = True</text>\n",
       "</g>\n",
       "<!-- 16&#45;&gt;18 -->\n",
       "<g id=\"edge14\" class=\"edge\">\n",
       "<title>16&#45;&gt;18</title>\n",
       "<path fill=\"none\" stroke=\"black\" d=\"M420.45,-103.73C425.43,-95.34 430.69,-86.47 435.72,-78.01\"/>\n",
       "<polygon fill=\"black\" stroke=\"black\" points=\"438.62,-79.99 440.71,-69.6 432.6,-76.41 438.62,-79.99\"/>\n",
       "</g>\n",
       "<!-- 11 -->\n",
       "<g id=\"node18\" class=\"node\">\n",
       "<title>11</title>\n",
       "<path fill=\"#55abe9\" stroke=\"black\" d=\"M633.75,-298.5C633.75,-298.5 548.75,-298.5 548.75,-298.5 542.75,-298.5 536.75,-292.5 536.75,-286.5 536.75,-286.5 536.75,-242.5 536.75,-242.5 536.75,-236.5 542.75,-230.5 548.75,-230.5 548.75,-230.5 633.75,-230.5 633.75,-230.5 639.75,-230.5 645.75,-236.5 645.75,-242.5 645.75,-242.5 645.75,-286.5 645.75,-286.5 645.75,-292.5 639.75,-298.5 633.75,-298.5\"/>\n",
       "<text text-anchor=\"middle\" x=\"591.25\" y=\"-281.2\" font-family=\"Helvetica,sans-Serif\" font-size=\"14.00\">entropy = 0.54</text>\n",
       "<text text-anchor=\"middle\" x=\"591.25\" y=\"-266.2\" font-family=\"Helvetica,sans-Serif\" font-size=\"14.00\">samples = 89</text>\n",
       "<text text-anchor=\"middle\" x=\"591.25\" y=\"-251.2\" font-family=\"Helvetica,sans-Serif\" font-size=\"14.00\">value = [11, 78]</text>\n",
       "<text text-anchor=\"middle\" x=\"591.25\" y=\"-236.2\" font-family=\"Helvetica,sans-Serif\" font-size=\"14.00\">class = False</text>\n",
       "</g>\n",
       "<!-- 6&#45;&gt;11 -->\n",
       "<g id=\"edge17\" class=\"edge\">\n",
       "<title>6&#45;&gt;11</title>\n",
       "<path fill=\"none\" stroke=\"black\" d=\"M591.25,-341.58C591.25,-331.43 591.25,-320.5 591.25,-310.18\"/>\n",
       "<polygon fill=\"black\" stroke=\"black\" points=\"594.75,-310.37 591.25,-300.37 587.75,-310.37 594.75,-310.37\"/>\n",
       "</g>\n",
       "<!-- 12 -->\n",
       "<g id=\"node19\" class=\"node\">\n",
       "<title>12</title>\n",
       "<path fill=\"#f0f8fd\" stroke=\"black\" d=\"M776.25,-298.5C776.25,-298.5 676.25,-298.5 676.25,-298.5 670.25,-298.5 664.25,-292.5 664.25,-286.5 664.25,-286.5 664.25,-242.5 664.25,-242.5 664.25,-236.5 670.25,-230.5 676.25,-230.5 676.25,-230.5 776.25,-230.5 776.25,-230.5 782.25,-230.5 788.25,-236.5 788.25,-242.5 788.25,-242.5 788.25,-286.5 788.25,-286.5 788.25,-292.5 782.25,-298.5 776.25,-298.5\"/>\n",
       "<text text-anchor=\"middle\" x=\"726.25\" y=\"-281.2\" font-family=\"Helvetica,sans-Serif\" font-size=\"14.00\">entropy = 0.999</text>\n",
       "<text text-anchor=\"middle\" x=\"726.25\" y=\"-266.2\" font-family=\"Helvetica,sans-Serif\" font-size=\"14.00\">samples = 260</text>\n",
       "<text text-anchor=\"middle\" x=\"726.25\" y=\"-251.2\" font-family=\"Helvetica,sans-Serif\" font-size=\"14.00\">value = [125, 135]</text>\n",
       "<text text-anchor=\"middle\" x=\"726.25\" y=\"-236.2\" font-family=\"Helvetica,sans-Serif\" font-size=\"14.00\">class = False</text>\n",
       "</g>\n",
       "<!-- 6&#45;&gt;12 -->\n",
       "<g id=\"edge18\" class=\"edge\">\n",
       "<title>6&#45;&gt;12</title>\n",
       "<path fill=\"none\" stroke=\"black\" d=\"M638.47,-341.58C651.69,-330.12 666.06,-317.67 679.27,-306.22\"/>\n",
       "<polygon fill=\"black\" stroke=\"black\" points=\"681.35,-309.05 686.61,-299.85 676.76,-303.76 681.35,-309.05\"/>\n",
       "</g>\n",
       "</g>\n",
       "</svg>\n"
      ],
      "text/plain": [
       "<graphviz.sources.Source at 0x1255f1a50>"
      ]
     },
     "execution_count": 29,
     "metadata": {},
     "output_type": "execute_result"
    }
   ],
   "source": [
    "from graphviz import Source\n",
    "from sklearn.tree import export_graphviz\n",
    "import os\n",
    "\n",
    "feature_names = ['CP1','CP2','CP3','CP4']\n",
    "\n",
    "export_graphviz(\n",
    "        ad_classifier,\n",
    "        out_file=\"player_shots_final.csv\",\n",
    "        feature_names=feature_names,\n",
    "        class_names=[\"True\", \"False\"],\n",
    "        rounded=True,\n",
    "        filled=True\n",
    "    )\n",
    "\n",
    "Source.from_file(\"player_shots_final.csv\")"
   ]
  },
  {
   "cell_type": "markdown",
   "metadata": {},
   "source": [
    "### Alternativa con los primeros parámetros encontrados\n",
    "#### Salen peores resultados"
   ]
  },
  {
   "cell_type": "code",
   "execution_count": 33,
   "metadata": {},
   "outputs": [
    {
     "name": "stdout",
     "output_type": "stream",
     "text": [
      "0.7919185301566468\n",
      "0.6986984740537782\n"
     ]
    }
   ],
   "source": [
    "from sklearn.tree import DecisionTreeClassifier\n",
    "\n",
    "classifier3 = DecisionTreeClassifier(criterion = \"entropy\", random_state = 0, max_depth=4, max_leaf_nodes=8, min_samples_leaf=1)\n",
    "classifier3.fit(X_train, y_train)\n",
    "\n",
    "# entrenamiento\n",
    "y_train_pred3 = classifier3.predict(X_train)\n",
    "f1_train3 = f1_score(y_train_pred3, y_train, average='weighted')\n",
    "print(f1_train3)\n",
    "\n",
    "# validacion\n",
    "y_val_pred3 = classifier3.predict(X_val)\n",
    "f1_val3 = f1_score(y_val_pred3, y_val, average='weighted')\n",
    "print(f1_val3)"
   ]
  },
  {
   "cell_type": "code",
   "execution_count": 36,
   "metadata": {},
   "outputs": [
    {
     "name": "stdout",
     "output_type": "stream",
     "text": [
      "0.6972185266377893\n"
     ]
    }
   ],
   "source": [
    "y_test_pred3 = classifier3.predict(X_test)\n",
    "f1_test3 = f1_score(y_test_pred3, y_test, average='weighted')\n",
    "print(f1_test3)"
   ]
  },
  {
   "cell_type": "raw",
   "metadata": {
    "id": "oR8L6geaPILH"
   },
   "source": [
    "# Limite de decisión\n",
    "from matplotlib.colors import ListedColormap\n",
    "custom_cmap = ListedColormap(['red','green'])\n",
    "\n",
    "X_set, y_set = X_test, y_test\n",
    "X1, X2 = np.meshgrid(np.arange(start = X_set[:, 0].min() - 1, stop = X_set[:, 0].max() + 1, step = 0.01),\n",
    "                     np.arange(start = X_set[:, 1].min() - 1, stop = X_set[:, 1].max() + 1, step = 0.01))\n",
    "plt.contourf(X1, X2, classifier.predict(np.array([X1.ravel(), X2.ravel()]).T).reshape(X1.shape),\n",
    "             alpha = 0.75, cmap = plt.cm.Pastel1)\n",
    "plt.xlim(X1.min(), X1.max())\n",
    "plt.ylim(X2.min(), X2.max())\n",
    "for i, j in enumerate(np.unique(y_set)):\n",
    "    plt.scatter(X_set[y_set == j, 0], X_set[y_set == j, 1],\n",
    "                color = custom_cmap(i), label = j)\n",
    "plt.title('Clasificador (Conjunto de Test)')\n",
    "plt.xlabel('CP1')\n",
    "plt.ylabel('CP2')\n",
    "plt.legend()\n",
    "plt.show()"
   ]
  }
 ],
 "metadata": {
  "colab": {
   "provenance": []
  },
  "kernelspec": {
   "display_name": "Python 3 (ipykernel)",
   "language": "python",
   "name": "python3"
  },
  "language_info": {
   "codemirror_mode": {
    "name": "ipython",
    "version": 3
   },
   "file_extension": ".py",
   "mimetype": "text/x-python",
   "name": "python",
   "nbconvert_exporter": "python",
   "pygments_lexer": "ipython3",
   "version": "3.11.9"
  }
 },
 "nbformat": 4,
 "nbformat_minor": 4
}
